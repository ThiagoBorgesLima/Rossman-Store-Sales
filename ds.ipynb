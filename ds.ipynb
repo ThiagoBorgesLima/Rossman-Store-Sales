{
 "cells": [
  {
   "cell_type": "code",
   "execution_count": null,
   "metadata": {},
   "outputs": [],
   "source": []
  }
 ],
 "metadata": {
  "kernelspec": {
   "display_name": "Python 3.10.4 ('ds_em_prod_env': venv)",
   "language": "python",
   "name": "python3"
  },
  "language_info": {
   "name": "python",
   "version": "3.10.4"
  },
  "orig_nbformat": 4,
  "vscode": {
   "interpreter": {
    "hash": "226bc1362fcf2dbcebdad3cd913fdace834e7b926dc35ada824f9f7a14f98307"
   }
  }
 },
 "nbformat": 4,
 "nbformat_minor": 2
}
